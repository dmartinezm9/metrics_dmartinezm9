{
  "cells": [
    {
      "cell_type": "markdown",
      "metadata": {
        "id": "vp2lTp6w0F_M"
      },
      "source": [
        "# Ejemplo rápido: Monte Carlo\n",
        "Un ejemplo rápido sobre la metodología Monte Carlo\n",
        "\n",
        "El propósito es calcular numéricamente la siguente integral:\n",
        "\n",
        "$$\\int_{-0.5}^{0.5}\\frac{-1}{\\sqrt{1-\\mu^2}}\\mathrm{d}\\mu$$\n",
        "\n",
        "## 1. Importar módulos requeridos"
      ]
    },
    {
      "cell_type": "code",
      "execution_count": null,
      "metadata": {
        "id": "neNTx7iU0F_O"
      },
      "outputs": [],
      "source": [
        "import numpy as np # Algebra matricial\n",
        "from math import sqrt # raíz cuadrada\n",
        "import matplotlib.pyplot as plt # gráficos\n",
        "import random # Simulacion aleatoria\n",
        "random.seed( 0 ) # Fijando semilla (reproducir resultados)\n",
        "np.random.seed( 0 ) # Fijando semilla (reproducir resultados)"
      ]
    },
    {
      "cell_type": "markdown",
      "metadata": {
        "id": "JeeF-4xi0F_P"
      },
      "source": [
        "## 2. Definir algunas funciones auxiliares\n",
        "\n",
        "La función ```get_rand_number(a,b)``` genera números aleatorios uniformemente distribuidos en el intervalo ```a``` y ```b```"
      ]
    },
    {
      "cell_type": "code",
      "execution_count": null,
      "metadata": {
        "id": "r-3IuwgF0F_P"
      },
      "outputs": [],
      "source": [
        "def get_rand_number(min_value, max_value):\n",
        "    return min_value + (max_value - min_value)*random.uniform(0,1)"
      ]
    },
    {
      "cell_type": "markdown",
      "metadata": {
        "id": "ELUKl7eC0F_P"
      },
      "source": [
        "La función ```f_of_x(x)``` calcula $\\frac{-1}{\\sqrt{1-x^2}}$"
      ]
    },
    {
      "cell_type": "code",
      "execution_count": null,
      "metadata": {
        "id": "zO4EwPdt0F_P"
      },
      "outputs": [],
      "source": [
        "def f_of_x(x): return -1/(sqrt(1-x**2))"
      ]
    },
    {
      "cell_type": "markdown",
      "metadata": {
        "id": "aPY6M2cI0F_P"
      },
      "source": [
        "La función ```crude_monte_carlo(n,a,b)``` calcula la itegral numérica de ```f_of_x(x)``` en el intervalo ```a``` y ```b``` con ```n``` simulaciones"
      ]
    },
    {
      "cell_type": "code",
      "execution_count": null,
      "metadata": {
        "id": "RYOx_RnA0F_Q"
      },
      "outputs": [],
      "source": [
        "def crude_monte_carlo(num_samples=5000,lower_bound = -0.5,upper_bound = 0.5):\n",
        "    \"\"\"\n",
        "    This function performs the Crude Monte Carlo for our specific function\n",
        "    f(x) on the range x=-0.5 to x=0.5.\n",
        "    Args:\n",
        "    - num_samples (float) : number of samples (optional)\n",
        "    - lower_bound (float) : lower bound (optional)\n",
        "    - upper_bound (float) : upper bound (optional)\n",
        "    Return:\n",
        "    - Crude Monte Carlo estimation (float)\n",
        "    \"\"\"\n",
        "    sum_of_samples = 0\n",
        "    for ii in range(num_samples):\n",
        "        x = get_rand_number(lower_bound, upper_bound)\n",
        "        sum_of_samples += f_of_x(x)\n",
        "\n",
        "    return float(sum_of_samples/num_samples)"
      ]
    },
    {
      "cell_type": "markdown",
      "metadata": {
        "id": "w7dqSws20F_Q"
      },
      "source": [
        "## 3. Integrar\n",
        "\n",
        "Visualisemos primero que estamos tratando de calcular"
      ]
    },
    {
      "cell_type": "code",
      "execution_count": null,
      "metadata": {
        "scrolled": true,
        "id": "SpDdx7qT0F_Q",
        "outputId": "da63df5d-6c56-4564-caaa-46f1bd1d2ac9"
      },
      "outputs": [
        {
          "data": {
            "text/plain": [
              "<matplotlib.collections.PolyCollection at 0x1502d51b880>"
            ]
          },
          "execution_count": 5,
          "metadata": {},
          "output_type": "execute_result"
        },
        {
          "data": {
            "image/png": "[encoded data removed]",
            "text/plain": [
              "<Figure size 640x480 with 1 Axes>"
            ]
          },
          "metadata": {},
          "output_type": "display_data"
        }
      ],
      "source": [
        "interval_x = np.linspace(-0.9, 0.9, 500)\n",
        "range_y = list(map(f_of_x,interval_x))\n",
        "\n",
        "fig, ax = plt.subplots()\n",
        "line1, = ax.plot(interval_x, range_y, lw=2)\n",
        "ax.set_title('f(x)')\n",
        "ax.axhline(0, color='red', lw=1,ls='--')\n",
        "ax.axvline(0, color='red', lw=1,ls='--')\n",
        "ax.axvline(-0.5, color='green', lw=2,ls='--')\n",
        "ax.axvline(0.5, color='green', lw=2,ls='--')\n",
        "range_limit = np.repeat(f_of_x(-0.5),500)\n",
        "ax.fill_between(interval_x, np.array(range_y), 0, where=range_y>=range_limit, facecolor='gold')"
      ]
    },
    {
      "cell_type": "markdown",
      "metadata": {
        "id": "aT8KjMVB0F_Q"
      },
      "source": [
        "Ahora estimemos dicha integral con la simulacion de Monte Carlo para distintos tamaños de simulaciones"
      ]
    },
    {
      "cell_type": "code",
      "execution_count": null,
      "metadata": {
        "id": "rZ7M-TSh0F_Q"
      },
      "outputs": [],
      "source": [
        "pw = 6\n",
        "Estimation = np.ndarray(shape=(pw,1))\n",
        "for ii in range(pw):\n",
        "    Estimation[ii] = crude_monte_carlo(10**(ii+1))"
      ]
    },
    {
      "cell_type": "markdown",
      "metadata": {
        "id": "VCR2siEH0F_R"
      },
      "source": [
        "Listo! ```Estimation_0```, ```Estimation_1```, ```Estimation_2```, ```Estimation_3``` y ```Estimation_4``` contienen las estimaciones numéricas"
      ]
    },
    {
      "cell_type": "code",
      "execution_count": null,
      "metadata": {
        "id": "UtlIkt8m0F_R",
        "outputId": "12d43bf9-f36a-4f89-d3e0-1aee0a465e1f"
      },
      "outputs": [
        {
          "name": "stdout",
          "output_type": "stream",
          "text": [
            "Aproximación de Monte Carlo para f(x) con 10^1 simulaciones: -1.02049\n",
            "Aproximación de Monte Carlo para f(x) con 10^2 simulaciones: -1.04630\n",
            "Aproximación de Monte Carlo para f(x) con 10^3 simulaciones: -1.04870\n",
            "Aproximación de Monte Carlo para f(x) con 10^4 simulaciones: -1.04663\n",
            "Aproximación de Monte Carlo para f(x) con 10^5 simulaciones: -1.04739\n",
            "Aproximación de Monte Carlo para f(x) con 10^6 simulaciones: -1.04719\n"
          ]
        }
      ],
      "source": [
        "for ii in range(pw):\n",
        "    print('Aproximación de Monte Carlo para f(x) con 10^%1.0f simulaciones: %1.5f'%(ii+1,Estimation[ii].item()))"
      ]
    },
    {
      "cell_type": "markdown",
      "metadata": {
        "id": "nlNQ8jJC0F_R"
      },
      "source": [
        "Resulta que $\\int\\frac{-1}{\\sqrt{1-x^2}}\\mathrm{d}x$ es funcion conocida:\n",
        "\n",
        "$$\\arccos(x)=\\int\\frac{-1}{\\sqrt{1-x^2}}\\mathrm{d}x.$$\n",
        "\n",
        "Por lo tanto\n",
        "\n",
        "$$\\int_{-0.5}^{0.5}\\frac{-1}{\\sqrt{1-\\mu^2}}\\mathrm{d}\\mu=\\int_{-0.5}^{0.5}\\mathrm{d}\\arccos(\\mu)=\\arccos(\\mu)\\big|_{\\mu=-0.5}^{\\mu=0.5},$$\n",
        "\n",
        "que es"
      ]
    },
    {
      "cell_type": "code",
      "execution_count": null,
      "metadata": {
        "id": "jmU32PK_0F_R",
        "outputId": "c7898eff-36b7-4d09-bb81-36f25402f1f7"
      },
      "outputs": [
        {
          "name": "stdout",
          "output_type": "stream",
          "text": [
            "Valor exacto de f(x): -1.04720\n"
          ]
        }
      ],
      "source": [
        "Exact_value = np.arccos(0.5)-np.arccos(-0.5)\n",
        "print('Valor exacto de f(x): %1.5f'%(Exact_value))"
      ]
    },
    {
      "cell_type": "markdown",
      "metadata": {
        "id": "PbPg_ICr0F_R"
      },
      "source": [
        "Por lo que las approximaciones anteriores se equivocaron según"
      ]
    },
    {
      "cell_type": "code",
      "execution_count": null,
      "metadata": {
        "id": "1CEOyYgU0F_R",
        "outputId": "ea179819-b01f-4aad-c767-0246515ae0b2"
      },
      "outputs": [
        {
          "name": "stdout",
          "output_type": "stream",
          "text": [
            "Error de approximacion con 10^1 simulaciones: 2.54994%\n",
            "Error de approximacion con 10^2 simulaciones: 0.08579%\n",
            "Error de approximacion con 10^3 simulaciones: 0.14329%\n",
            "Error de approximacion con 10^4 simulaciones: 0.05456%\n",
            "Error de approximacion con 10^5 simulaciones: 0.01853%\n",
            "Error de approximacion con 10^6 simulaciones: 0.00034%\n"
          ]
        }
      ],
      "source": [
        "for ii in range(pw):\n",
        "    err = abs((Exact_value-Estimation[ii])/Exact_value)*100\n",
        "    print('Error de approximacion con 10^%1.0f simulaciones: %1.5f%%'%(ii+1,err.item()))"
      ]
    },
    {
      "cell_type": "code",
      "execution_count": null,
      "metadata": {
        "id": "lvubHKr80F_R"
      },
      "outputs": [],
      "source": []
    }
  ],
  "metadata": {
    "kernelspec": {
      "display_name": "base",
      "language": "python",
      "name": "python3"
    },
    "language_info": {
      "codemirror_mode": {
        "name": "ipython",
        "version": 3
      },
      "file_extension": ".py",
      "mimetype": "text/x-python",
      "name": "python",
      "nbconvert_exporter": "python",
      "pygments_lexer": "ipython3",
      "version": "3.9.18"
    },
    "colab": {
      "provenance": []
    }
  },
  "nbformat": 4,
  "nbformat_minor": 0
}